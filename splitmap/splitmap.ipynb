{
 "cells": [
  {
   "cell_type": "markdown",
   "id": "b432f014",
   "metadata": {},
   "source": [
    "[![Open In Colab](https://colab.research.google.com/assets/colab-badge.svg)](https://colab.research.google.com/github/giswqs/mkdocs-demo/blob/master/docs/splitmap.ipynb)"
   ]
  },
  {
   "cell_type": "code",
   "execution_count": null,
   "id": "11a07481",
   "metadata": {},
   "outputs": [],
   "source": [
    "import leafmap.foliumap as leafmap"
   ]
  },
  {
   "cell_type": "code",
   "execution_count": null,
   "id": "dd2dd2cf",
   "metadata": {},
   "outputs": [],
   "source": [
    "m = leafmap.Map(height=600, center=[39.4948, -108.5492], zoom=12)\n",
    "url = \"https://github.com/opengeos/data/releases/download/raster/Libya-2023-07-01.tif\"\n",
    "url2 = \"https://github.com/opengeos/data/releases/download/raster/Libya-2023-09-13.tif\"\n",
    "m.split_map(url, url2)\n",
    "m"
   ]
  },
  {
   "cell_type": "code",
   "execution_count": null,
   "id": "f3277911",
   "metadata": {},
   "outputs": [],
   "source": [
    "url3 = \"https://github.com/giswqs/mkdocs-demo/releases/download/datasets/nlcd_2021_land_cover_90m.tif\""
   ]
  },
  {
   "cell_type": "code",
   "execution_count": null,
   "id": "7cc629cf",
   "metadata": {},
   "outputs": [],
   "source": [
    "m = leafmap.Map()\n",
    "colormap = {\n",
    "    \"11\": \"#466b9f\",\n",
    "    \"12\": \"#d1def8\",\n",
    "    \"21\": \"#dec5c5\",\n",
    "    \"22\": \"#d99282\",\n",
    "    \"23\": \"#eb0000\",\n",
    "    \"24\": \"#ab0000\",\n",
    "    \"31\": \"#b3ac9f\",\n",
    "    \"41\": \"#68ab5f\",\n",
    "    \"42\": \"#1c5f2c\",\n",
    "    \"43\": \"#b5c58f\",\n",
    "    \"51\": \"#af963c\",\n",
    "    \"52\": \"#ccb879\",\n",
    "    \"71\": \"#dfdfc2\",\n",
    "    \"72\": \"#d1d182\",\n",
    "    \"73\": \"#a3cc51\",\n",
    "    \"74\": \"#82ba9e\",\n",
    "    \"81\": \"#dcd939\",\n",
    "    \"82\": \"#ab6c28\",\n",
    "    \"90\": \"#b8d9eb\",\n",
    "    \"95\": \"#6c9fb8\",\n",
    "}\n",
    "m.add_cog_layer(url3, colormap=colormap)\n",
    "m"
   ]
  }
 ],
 "metadata": {
  "kernelspec": {
   "display_name": "geo",
   "language": "python",
   "name": "python3"
  },
  "language_info": {
   "codemirror_mode": {
    "name": "ipython",
    "version": 3
   },
   "file_extension": ".py",
   "mimetype": "text/x-python",
   "name": "python",
   "nbconvert_exporter": "python",
   "pygments_lexer": "ipython3",
   "version": "3.12.9"
  }
 },
 "nbformat": 4,
 "nbformat_minor": 5
}
